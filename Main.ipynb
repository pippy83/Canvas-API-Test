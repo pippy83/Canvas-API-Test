{
 "cells": [
  {
   "cell_type": "code",
   "execution_count": null,
   "metadata": {},
   "outputs": [],
   "source": [
    "#imports\n",
    "import json\n",
    "from canvasapi import Canvas"
   ]
  },
  {
   "cell_type": "code",
   "execution_count": null,
   "metadata": {},
   "outputs": [],
   "source": [
    "# Canvas API URL\n",
    "API_URL = \"https://canvas.wisc.edu/\"\n",
    "# Canvas API key\n",
    "API_KEY =????\n",
    "\n",
    "# Initialize a new Canvas object\n",
    "canvas = Canvas(API_URL, API_KEY)"
   ]
  },
  {
   "cell_type": "code",
   "execution_count": null,
   "metadata": {},
   "outputs": [],
   "source": [
    "course_dict = {}\n",
    "for course in courses:\n",
    "    try:\n",
    "        course_dict[str(course)] = []\n",
    "    except:\n",
    "        continue\n",
    "    assignments = course.get_assignments()\n",
    "    try:\n",
    "        for assignment in assignments:\n",
    "            course_dict[str(course)].append(str(assignment))\n",
    "    except:\n",
    "        continue\n",
    "course_dict"
   ]
  },
  {
   "cell_type": "code",
   "execution_count": null,
   "metadata": {},
   "outputs": [],
   "source": [
    "file_path = \"assignments\"\n",
    "with open(file_path,\"w\") as f:  \n",
    "    json.dump(course_dict,f)"
   ]
  },
  {
   "cell_type": "code",
   "execution_count": null,
   "metadata": {},
   "outputs": [],
   "source": []
  }
 ],
 "metadata": {
  "kernelspec": {
   "display_name": "Python 3",
   "language": "python",
   "name": "python3"
  },
  "language_info": {
   "codemirror_mode": {
    "name": "ipython",
    "version": 3
   },
   "file_extension": ".py",
   "mimetype": "text/x-python",
   "name": "python",
   "nbconvert_exporter": "python",
   "pygments_lexer": "ipython3",
   "version": "3.8.5"
  }
 },
 "nbformat": 4,
 "nbformat_minor": 4
}
